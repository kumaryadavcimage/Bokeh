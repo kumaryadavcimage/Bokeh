{
 "cells": [
  {
   "cell_type": "markdown",
   "id": "ca694bd3-54b6-4e4d-91a2-baa963e4362e",
   "metadata": {},
   "source": [
    "#### Q1. How can you create a Bokeh plot using Python code?"
   ]
  },
  {
   "cell_type": "markdown",
   "id": "a319aa1e-40af-4b19-8c89-29dc600caf2a",
   "metadata": {},
   "source": [
    "#### solve\n",
    "\n",
    "Bokeh is a Python interactive visualization library that targets modern web browsers for presentation. It provides elegant, concise construction of versatile graphics and allows users to create interactive plots. Here's a simple example of creating a Bokeh plot using Python code:"
   ]
  },
  {
   "cell_type": "code",
   "execution_count": 1,
   "id": "0f718841-0967-4aa5-8910-68c7aebe6412",
   "metadata": {},
   "outputs": [],
   "source": [
    "# Import necessary modules from Bokeh\n",
    "from bokeh.plotting import figure, show\n",
    "from bokeh.io import output_file\n",
    "\n",
    "# Create some sample data\n",
    "x = [1, 2, 3, 4, 5]\n",
    "y = [6, 7, 2, 4, 5]\n",
    "\n",
    "# Specify the output file (optional)\n",
    "output_file(\"bokeh_plot.html\")\n",
    "\n",
    "# Create a figure with title, x-axis label, and y-axis label\n",
    "p = figure(title=\"Simple Bokeh Plot\", x_axis_label='X-axis', y_axis_label='Y-axis')\n",
    "\n",
    "# Add a circle glyph to the figure using the sample data\n",
    "p.circle(x, y, size=10, color=\"navy\", alpha=0.5)\n",
    "\n",
    "# Show the plot\n",
    "show(p)\n"
   ]
  },
  {
   "cell_type": "markdown",
   "id": "ff17e31a-f297-48c9-9d4b-be1f1832f0ee",
   "metadata": {},
   "source": [
    "#### \n",
    "This example creates a simple scatter plot with circles using the Bokeh library. Make sure you have Bokeh installed (pip install bokeh) before running the code. Save this code in a Python script (e.g., bokeh_example.py) and run it using a Python interpreter to generate the HTML file.\n",
    "\n",
    "The output_file(\"bokeh_plot.html\") line specifies the name of the HTML file where the plot will be saved. You can open this file in a web browser to view the Bokeh plot."
   ]
  },
  {
   "cell_type": "markdown",
   "id": "57a48db8-7c86-48e1-84f8-875a59f0b5f6",
   "metadata": {},
   "source": [
    "#### Q2. What are glyphs in Bokeh, and how can you add them to a Bokeh plot? Explain with an example."
   ]
  },
  {
   "cell_type": "markdown",
   "id": "4857104e-f11f-48d2-a6ac-7500154bdeab",
   "metadata": {},
   "source": [
    "#### solve\n",
    "\n",
    "In Bokeh, glyphs are visual markers that represent data points on a plot. Examples of glyphs include circles, squares, lines, and more. You can add one or more glyphs to a Bokeh plot to visualize your data. Each glyph is associated with a set of data (e.g., x and y coordinates) and visual properties (e.g., color, size).\n",
    "\n",
    "Let's go through an example where we add multiple glyphs to a Bokeh plot:"
   ]
  },
  {
   "cell_type": "code",
   "execution_count": 2,
   "id": "9f4fbf8e-91a5-4270-a825-6189ba3d3147",
   "metadata": {},
   "outputs": [],
   "source": [
    "from bokeh.plotting import figure, show\n",
    "from bokeh.io import output_file\n",
    "\n",
    "# Sample data\n",
    "x = [1, 2, 3, 4, 5]\n",
    "y_circle = [6, 7, 2, 4, 5]\n",
    "y_square = [4, 5, 8, 2, 6]\n",
    "y_line = [2, 5, 3, 8, 7]\n",
    "\n",
    "# Specify the output file (optional)\n",
    "output_file(\"bokeh_glyphs_example.html\")\n",
    "\n",
    "# Create a figure with title, x-axis label, and y-axis label\n",
    "p = figure(title=\"Bokeh Glyphs Example\", x_axis_label='X-axis', y_axis_label='Y-axis')\n",
    "\n",
    "# Add circle glyph\n",
    "p.circle(x, y_circle, size=10, color=\"navy\", alpha=0.5, legend_label='Circle Glyph')\n",
    "\n",
    "# Add square glyph\n",
    "p.square(x, y_square, size=10, color=\"green\", alpha=0.7, legend_label='Square Glyph')\n",
    "\n",
    "# Add line glyph\n",
    "p.line(x, y_line, line_width=2, color=\"red\", legend_label='Line Glyph')\n",
    "\n",
    "# Customize the plot\n",
    "p.legend.title = 'Glyph Types'\n",
    "p.legend.label_text_font_size = '12pt'\n",
    "\n",
    "# Show the plot\n",
    "show(p)\n"
   ]
  },
  {
   "cell_type": "markdown",
   "id": "57e52626-00a2-4518-ac71-7469702efb9a",
   "metadata": {},
   "source": [
    "#### \n",
    "In this example, we've added three different types of glyphs to the plot:\n",
    "\n",
    "a.circle: Represents data points as circles.\n",
    "\n",
    "b.square: Represents data points as squares.\n",
    "\n",
    "c.line: Connects data points with lines.\n",
    "\n",
    "d.Each glyph function (circle, square, line, etc.) takes the data (x and y coordinates), visual properties (size, color, alpha, etc.), and legend label as arguments.\n",
    "\n",
    "The legend_label argument is used to label each glyph in the legend. You can customize other aspects of the plot, such as the legend's title and font size, as shown in the example."
   ]
  },
  {
   "cell_type": "markdown",
   "id": "017eb712-6f37-40a2-a8b9-b7db99702068",
   "metadata": {},
   "source": [
    "#### Q3. How can you customize the appearance of a Bokeh plot, including the axes, title, and legend?"
   ]
  },
  {
   "cell_type": "markdown",
   "id": "f8aaf204-2867-4e8a-949d-2ae39d36250f",
   "metadata": {},
   "source": [
    "#### solve\n",
    "\n",
    "Bokeh provides a variety of options for customizing the appearance of plots, including axes, title, legend, and other elements. Here's an example that demonstrates some common customization options:"
   ]
  },
  {
   "cell_type": "code",
   "execution_count": 3,
   "id": "3149716c-d07d-43df-b19a-7b7570f239f0",
   "metadata": {},
   "outputs": [],
   "source": [
    "from bokeh.plotting import figure, show\n",
    "from bokeh.io import output_file\n",
    "\n",
    "# Sample data\n",
    "x = [1, 2, 3, 4, 5]\n",
    "y = [6, 7, 2, 4, 5]\n",
    "\n",
    "# Specify the output file (optional)\n",
    "output_file(\"bokeh_customization_example.html\")\n",
    "\n",
    "# Create a figure with various customization options\n",
    "p = figure(\n",
    "    title=\"Custom Bokeh Plot\",\n",
    "    x_axis_label='X-axis',\n",
    "    y_axis_label='Y-axis',\n",
    "    width=600,\n",
    "    height=400,\n",
    "    tools='pan,box_zoom,reset',\n",
    "    toolbar_location='above'\n",
    ")\n",
    "\n",
    "# Add a circle glyph to the figure using the sample data\n",
    "p.circle(x, y, size=10, color=\"navy\", alpha=0.5, legend_label='Circle Glyph')\n",
    "\n",
    "# Customize the appearance of axes\n",
    "p.xaxis.axis_label_text_font_style = \"italic\"\n",
    "p.yaxis.major_label_text_color = \"orange\"\n",
    "p.yaxis.major_label_orientation = \"vertical\"\n",
    "\n",
    "# Customize the appearance of the title\n",
    "p.title.text_color = \"blue\"\n",
    "p.title.text_font_size = \"20pt\"\n",
    "p.title.align = \"center\"\n",
    "\n",
    "# Customize the appearance of the legend\n",
    "p.legend.title = 'Glyph Types'\n",
    "p.legend.label_text_font_size = '12pt'\n",
    "p.legend.location = 'top_left'\n",
    "\n",
    "# Show the plot\n",
    "show(p)\n"
   ]
  },
  {
   "cell_type": "markdown",
   "id": "6d6e636f-e0b4-4db7-9c6d-3bc1a537073a",
   "metadata": {},
   "source": [
    "#### \n",
    "In this example, we've added various customization options to the plot:\n",
    "\n",
    "a.width and height: Set the width and height of the plot.\n",
    "\n",
    "b.tools: Specify the tools available in the toolbar (e.g., pan, box_zoom, reset).\n",
    "\n",
    "c.toolbar_location: Set the location of the toolbar (e.g., 'above', 'below', 'left', 'right', or None for no toolbar).\n",
    "\n",
    "d.Customize the appearance of axes using properties like axis_label_text_font_style, major_label_text_color, and major_label_orientation.\n",
    "\n",
    "e.Customize the appearance of the title using properties like text_color, text_font_size, and align.\n",
    "\n",
    "f.Customize the appearance of the legend using properties like title, label_text_font_size, and location."
   ]
  },
  {
   "cell_type": "markdown",
   "id": "872ee87c-5b47-4799-9261-92ae36951e6e",
   "metadata": {},
   "source": [
    "#### Q4. What is a Bokeh server, and how can you use it to create interactive plots that can be updated in real time?\n"
   ]
  },
  {
   "cell_type": "markdown",
   "id": "d4c9bb68-950a-45ed-9f9a-4308729e5af0",
   "metadata": {},
   "source": [
    "#### solve\n",
    "A Bokeh server is a way to create interactive Bokeh plots that can be updated in real-time. Unlike static HTML files generated by Bokeh, a Bokeh server allows for more dynamic and interactive behavior by adding a server-side component. This enables the creation of applications where the plot updates in response to user interactions or changes in data, and the updates are communicated between the server and the client.\n",
    "\n",
    "To use Bokeh server, you typically follow these steps:\n",
    "\n",
    "a.Create a Bokeh Application: This is a Python script that defines the layout and behavior of your interactive plot. The script should contain a function, usually named modify_doc, that sets up the initial state of the plot and specifies how the plot should be updated.\n",
    "\n",
    "b.Run the Bokeh Server: You run the Bokeh server using the bokeh serve command followed by the path to your Bokeh application script.\n",
    "\n",
    "c.Access the Plot via a Web Browser: Once the Bokeh server is running, you can access the interactive plot through a web browser. The plot is served at a specified URL.\n",
    "\n",
    "Here's a simple example of a Bokeh server application that creates a scatter plot and updates it in real-time:"
   ]
  },
  {
   "cell_type": "code",
   "execution_count": 4,
   "id": "12d1fbb1-62cb-4238-bb4b-e984658e8125",
   "metadata": {},
   "outputs": [
    {
     "data": {
      "text/plain": [
       "<bokeh.server.callbacks.PeriodicCallback at 0x7fa1b628b790>"
      ]
     },
     "execution_count": 4,
     "metadata": {},
     "output_type": "execute_result"
    }
   ],
   "source": [
    "# filename: bokeh_server_example.py\n",
    "from random import random\n",
    "\n",
    "from bokeh.io import curdoc\n",
    "from bokeh.plotting import figure\n",
    "from bokeh.models import ColumnDataSource\n",
    "from bokeh.driving import count\n",
    "\n",
    "# Create a figure and data source\n",
    "plot = figure(x_range=(0, 1), y_range=(0, 1))\n",
    "source = ColumnDataSource(data={'x': [], 'y': []})\n",
    "plot.circle(x='x', y='y', size=10, source=source)\n",
    "\n",
    "# Update the data source in real-time using a periodic callback\n",
    "@count()\n",
    "def update_data_source(step):\n",
    "    new_data = {'x': source.data['x'] + [random()], 'y': source.data['y'] + [random()]}\n",
    "    source.data = new_data\n",
    "\n",
    "# Add the plot to the current document\n",
    "curdoc().add_root(plot)\n",
    "\n",
    "# Add the periodic callback to update the plot every 200 milliseconds\n",
    "curdoc().add_periodic_callback(update_data_source, 200)\n"
   ]
  },
  {
   "cell_type": "markdown",
   "id": "ea14f6e1-e464-42a4-bb43-eefbbca49afe",
   "metadata": {},
   "source": [
    "####\n",
    "To run this Bokeh server application, save it as bokeh_server_example.py and execute the following command in the terminal:"
   ]
  },
  {
   "cell_type": "markdown",
   "id": "4bd518a2-f44d-49c2-bac5-057933978ca0",
   "metadata": {},
   "source": [
    "####\n",
    "This will start the Bokeh server, and you can access the interactive plot at http://localhost:5006/bokeh_server_example. The plot updates in real-time, and you can customize the application to respond to various user interactions, events, or external data changes."
   ]
  },
  {
   "cell_type": "markdown",
   "id": "ff8f5362-1ed5-4874-9add-63526e1971f8",
   "metadata": {},
   "source": [
    "#### Q5. How can you embed a Bokeh plot into a web page or dashboard using Flask or Django?"
   ]
  },
  {
   "cell_type": "markdown",
   "id": "fdd53d40-7c01-4698-8b31-1fb17c88b127",
   "metadata": {},
   "source": [
    "#### solve\n",
    "Embedding a Bokeh plot into a web page or dashboard using Flask or Django involves using Bokeh's components module to generate the necessary HTML and script components for the plot. The general process is as follows:\n",
    "\n",
    "a.Create a Bokeh plot and obtain its components.\n",
    "\n",
    "b.Pass these components to your Flask or Django template.\n",
    "\n",
    "c.Render the template to display the Bokeh plot in the web page.\n",
    "\n",
    "Here are examples for both Flask and Django:"
   ]
  },
  {
   "cell_type": "code",
   "execution_count": null,
   "id": "e573b315-c4a1-4892-bca8-c4aa9f0b4221",
   "metadata": {},
   "outputs": [],
   "source": []
  }
 ],
 "metadata": {
  "kernelspec": {
   "display_name": "Python 3 (ipykernel)",
   "language": "python",
   "name": "python3"
  },
  "language_info": {
   "codemirror_mode": {
    "name": "ipython",
    "version": 3
   },
   "file_extension": ".py",
   "mimetype": "text/x-python",
   "name": "python",
   "nbconvert_exporter": "python",
   "pygments_lexer": "ipython3",
   "version": "3.10.8"
  }
 },
 "nbformat": 4,
 "nbformat_minor": 5
}
